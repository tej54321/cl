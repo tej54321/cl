{
 "cells": [
  {
   "cell_type": "code",
   "execution_count": 1,
   "id": "39a7f9cf",
   "metadata": {},
   "outputs": [
    {
     "name": "stdout",
     "output_type": "stream",
     "text": [
      "None\t0\n"
     ]
    }
   ],
   "source": [
    "import sys\n",
    "\n",
    "current_key = None\n",
    "current_values = []\n",
    "\n",
    "# Reading key-value pairs from map output\n",
    "for line in sys.stdin:\n",
    "    key, value = line.strip().split('\\t')\n",
    "    i, j = key.split(',')\n",
    "    \n",
    "    if current_key == None:\n",
    "        current_key = key\n",
    "    if key != current_key:\n",
    "        result = 0\n",
    "        for value_pair in current_values:\n",
    "            value1, value2 = value_pair.split(',')\n",
    "            result += int(value1) * int(value2)\n",
    "        print(f\"{current_key}\\t{result}\")\n",
    "        \n",
    "        current_key = key\n",
    "        current_values = []\n",
    "    \n",
    "    current_values.append(value)\n",
    "\n",
    "# Calculating and printing the final result for the last key\n",
    "result = 0\n",
    "for value_pair in current_values:\n",
    "    value1, value2 = value_pair.split(',')\n",
    "    result += int(value1) * int(value2)\n",
    "print(f\"{current_key}\\t{result}\")"
   ]
  },
  {
   "cell_type": "code",
   "execution_count": 2,
   "id": "0d157178",
   "metadata": {},
   "outputs": [
    {
     "name": "stdout",
     "output_type": "stream",
     "text": [
      "None\t0\n"
     ]
    }
   ],
   "source": [
    "import sys\n",
    "\n",
    "current_key = None\n",
    "current_values = []\n",
    "\n",
    "for line in sys.stdin:\n",
    "    key, value = line.strip().split('\\t')\n",
    "    i, j = split(',')\n",
    "    \n",
    "    if current_key == None:\n",
    "        current_key = key\n",
    "    if key != current_key:\n",
    "        result = 0\n",
    "        for value_pair in current_values:\n",
    "            value1, value2 = value_pair.split(',')\n",
    "            result += int(value1) * int(value2)\n",
    "        print(f\"{current_key}\\t{result}\")\n",
    "        \n",
    "        current_key = key\n",
    "        current_values = []\n",
    "        \n",
    "    current_values.append(value)\n",
    "result = 0\n",
    "for value_pair in current_values:\n",
    "    value1, value2 = value_pair.split(',')\n",
    "    result += int(value1) * int(value2)\n",
    "print(f\"{current_key}\\t{result}\")"
   ]
  },
  {
   "cell_type": "code",
   "execution_count": 4,
   "id": "29b26316",
   "metadata": {},
   "outputs": [
    {
     "name": "stdout",
     "output_type": "stream",
     "text": [
      "None\t0\n"
     ]
    }
   ],
   "source": [
    "import sys\n",
    "\n",
    "current_key = None\n",
    "current_values = []\n",
    "\n",
    "for line in sys.stdin:\n",
    "    key, value = line.strip().split('\\t')\n",
    "    i, j = split(',')\n",
    "    \n",
    "    if current_key == None:\n",
    "        current_key = key\n",
    "    if key != current_key:\n",
    "        result = 0\n",
    "        for value_pairs in current_values:\n",
    "            value1, value2 = value_pairs.split(',')\n",
    "            result += int(value1) * int(value2)\n",
    "        print(f\"{current_key}\\t{result}\")\n",
    "        \n",
    "        current_key = key\n",
    "        current_values = []\n",
    "        \n",
    "    current_values.append(value)\n",
    "result = 0\n",
    "for value_pairs in current_values:\n",
    "    value1, value2 = value_pairs.split(',')\n",
    "    result += int(value1) * int(value2)\n",
    "print(f\"{current_key}\\t{result}\")"
   ]
  },
  {
   "cell_type": "code",
   "execution_count": 5,
   "id": "13f420e6",
   "metadata": {},
   "outputs": [
    {
     "name": "stdout",
     "output_type": "stream",
     "text": [
      "None\t 0\n"
     ]
    }
   ],
   "source": [
    "import sys\n",
    "\n",
    "current_key = None\n",
    "current_values = []\n",
    "\n",
    "for line in sys.stdin:\n",
    "    key, value = line.strip().split('\\t')\n",
    "    i, j = split(',')\n",
    "    \n",
    "    if current_key == None:\n",
    "        current_key = key\n",
    "    if key != current_key:\n",
    "        result = 0\n",
    "        for value_pairs in current_values:\n",
    "            value1, value2 = value_pairs.split(',')\n",
    "            result += int(value1) * int(value2)\n",
    "        print(f\"{current_key}\\t {result}\")\n",
    "        \n",
    "        current_key = key\n",
    "        current_values = []\n",
    "result = 0\n",
    "for value_pairs in current_values:\n",
    "    value1, value2 = value_pairs.split(',')\n",
    "    result += int(value1) * int(value2)\n",
    "print(f\"{current_key}\\t {result}\")        "
   ]
  },
  {
   "cell_type": "code",
   "execution_count": null,
   "id": "83687c81",
   "metadata": {},
   "outputs": [],
   "source": []
  }
 ],
 "metadata": {
  "kernelspec": {
   "display_name": "Python 3 (ipykernel)",
   "language": "python",
   "name": "python3"
  },
  "language_info": {
   "codemirror_mode": {
    "name": "ipython",
    "version": 3
   },
   "file_extension": ".py",
   "mimetype": "text/x-python",
   "name": "python",
   "nbconvert_exporter": "python",
   "pygments_lexer": "ipython3",
   "version": "3.9.13"
  }
 },
 "nbformat": 4,
 "nbformat_minor": 5
}
