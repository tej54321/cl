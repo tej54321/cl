{
 "cells": [
  {
   "cell_type": "code",
   "execution_count": 1,
   "id": "59cf31bd",
   "metadata": {},
   "outputs": [
    {
     "name": "stdout",
     "output_type": "stream",
     "text": [
      "Grade A: 0 students\n",
      "Grade B: 0 students\n",
      "Grade C: 0 students\n",
      "Grade D: 0 students\n",
      "Grade F: 0 students\n"
     ]
    }
   ],
   "source": [
    "import sys\n",
    "\n",
    "def reducer():\n",
    "    grade_counts = {'A': 0, 'B': 0, 'C': 0, 'D': 0, 'F': 0}\n",
    "\n",
    "    for line in sys.stdin:\n",
    "        name, grade = line.strip().split(\"\\t\")\n",
    "        grade_counts[grade] += 1\n",
    "\n",
    "    for grade, count in grade_counts.items():\n",
    "        print(f\"Grade {grade}: {count} students\")\n",
    "        \n",
    "if __name__ ==\"__main__\":\n",
    "    reducer()"
   ]
  },
  {
   "cell_type": "code",
   "execution_count": 3,
   "id": "3c1cb471",
   "metadata": {},
   "outputs": [
    {
     "name": "stdout",
     "output_type": "stream",
     "text": [
      "Grade A:0:students\n",
      "Grade B:0:students\n",
      "Grade C:0:students\n",
      "Grade D:0:students\n",
      "Grade F:0:students\n"
     ]
    }
   ],
   "source": [
    "import sys\n",
    "\n",
    "def reducer():\n",
    "    grade_counts = {'A' : 0,'B' : 0,'C' : 0,'D' : 0,'F' : 0}\n",
    "    \n",
    "    for line in sys.stdin:\n",
    "        name, grade = line.strip().split(',')\n",
    "        grade_counts[grade] +=1\n",
    "        \n",
    "    for grade, count in grade_counts.items():\n",
    "        print(f\"Grade {grade}:{count}:students\")\n",
    "        \n",
    "if __name__ == '__main__':\n",
    "    reducer()"
   ]
  },
  {
   "cell_type": "code",
   "execution_count": 4,
   "id": "3aa48159",
   "metadata": {},
   "outputs": [
    {
     "name": "stdout",
     "output_type": "stream",
     "text": [
      "Grade A:0:students\n",
      "Grade B:0:students\n",
      "Grade C:0:students\n",
      "Grade D:0:students\n",
      "Grade F:0:students\n"
     ]
    }
   ],
   "source": [
    "import sys\n",
    "\n",
    "def Reducer():\n",
    "    grade_counts = {'A':0,'B':0,'C':0,'D':0,'F':0}\n",
    "    \n",
    "    for line in sys.stdin:\n",
    "        name, grade = line.strip().split(',')\n",
    "        grade_counts[grade] +=1\n",
    "        \n",
    "    for grade, count in grade_counts.items():\n",
    "        print(f\"Grade {grade}:{count}:students\")\n",
    "        \n",
    "if __name__ == '__main__':\n",
    "    Reducer()"
   ]
  },
  {
   "cell_type": "code",
   "execution_count": null,
   "id": "c9369e11",
   "metadata": {},
   "outputs": [],
   "source": []
  }
 ],
 "metadata": {
  "kernelspec": {
   "display_name": "Python 3 (ipykernel)",
   "language": "python",
   "name": "python3"
  },
  "language_info": {
   "codemirror_mode": {
    "name": "ipython",
    "version": 3
   },
   "file_extension": ".py",
   "mimetype": "text/x-python",
   "name": "python",
   "nbconvert_exporter": "python",
   "pygments_lexer": "ipython3",
   "version": "3.9.7"
  }
 },
 "nbformat": 4,
 "nbformat_minor": 5
}
