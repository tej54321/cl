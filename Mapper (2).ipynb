{
 "cells": [
  {
   "cell_type": "code",
   "execution_count": 1,
   "id": "0bfb7200",
   "metadata": {},
   "outputs": [],
   "source": [
    "#!/usr/bin/env python\n",
    "import sys\n",
    "\n",
    "# input comes from STDIN (standard input)\n",
    "for line in sys.stdin:\n",
    "    #clean and split in words\n",
    "    linechars = [c for c in line.lower() if c.isalpha() or c==' ']\n",
    "    words     = ''.join(linechars).strip().split()\n",
    "\n",
    "    #emit the key-balue pairs\n",
    "    for word in words:\n",
    "        print ('%s\\t%s' % (word, 1))"
   ]
  },
  {
   "cell_type": "code",
   "execution_count": 2,
   "id": "4f8bac90",
   "metadata": {},
   "outputs": [],
   "source": [
    "import sys\n",
    "\n",
    "for line in sys.stdin:\n",
    "    linechars = [c for c in line.lower() if c.isalpha() or c =='']\n",
    "    words = ''.join(linechars).strip().split()\n",
    "    \n",
    "    for word in words:\n",
    "        print ('%s\\t%s' % (word, 1))"
   ]
  },
  {
   "cell_type": "code",
   "execution_count": 3,
   "id": "45dfc82c",
   "metadata": {},
   "outputs": [],
   "source": [
    "import sys\n",
    "\n",
    "for line in sys.stdin:\n",
    "    linechars = [c for c in line.lower() if c.isalpha() or c == '']\n",
    "    words = ''.join(linechars).strip().split()\n",
    "    \n",
    "    for word in words:\n",
    "        print('%s\\t%s'% (word ,1))"
   ]
  },
  {
   "cell_type": "code",
   "execution_count": 4,
   "id": "fdbcaeea",
   "metadata": {},
   "outputs": [],
   "source": [
    "import sys\n",
    "\n",
    "for line in sys.stdin:\n",
    "    linechars = [c for c in line.lower() if c.isalpha() or c =='']\n",
    "    words = ''.join(linechars).split().strip()\n",
    "    \n",
    "    for word in words:\n",
    "        print('%s\\t%s'%(word, 1))"
   ]
  },
  {
   "cell_type": "code",
   "execution_count": 5,
   "id": "c3967fb5",
   "metadata": {},
   "outputs": [],
   "source": [
    "import sys\n",
    "\n",
    "for line in sys.stdin:\n",
    "    linechars = [c for c in line.lower() if c.isalpha() or c =='']\n",
    "    words = ''.join(linechars).strip().split()\n",
    "    \n",
    "    for word in words:\n",
    "        print('%s\\t%s' % (word, 1))"
   ]
  },
  {
   "cell_type": "code",
   "execution_count": 8,
   "id": "4e88207c",
   "metadata": {},
   "outputs": [],
   "source": [
    "import sys\n",
    "\n",
    "for line in sys.stdin:\n",
    "    linechars = [c for c in line.lower() if c.isalpha() or c == '']\n",
    "    words = ''.join(linechars).strip().split()\n",
    "    \n",
    "    for word in words:\n",
    "        print('%s\\t%s', (word, 1))"
   ]
  },
  {
   "cell_type": "code",
   "execution_count": 1,
   "id": "c8d027b8",
   "metadata": {},
   "outputs": [],
   "source": [
    "import sys\n",
    "def mapper():\n",
    "    for line in sys.stdin:\n",
    "        line=line.strip()\n",
    "        words=line.split()\n",
    "        for word in words:\n",
    "            print('%s\\t%s'%(word,1))\n",
    "            \n",
    "if __name__ == \"__main__\":\n",
    "    mapper()"
   ]
  },
  {
   "cell_type": "code",
   "execution_count": 3,
   "id": "1a9f8577",
   "metadata": {},
   "outputs": [],
   "source": [
    "import sys\n",
    "\n",
    "def mapper():\n",
    "    for line in sys.stdin:\n",
    "        line = line.strip()\n",
    "        words = line.split()\n",
    "        for word in words:\n",
    "            print('%s\\t%s' % (word, 1))\n",
    "            \n",
    "if __name__ == '__main__':\n",
    "    mapper()"
   ]
  },
  {
   "cell_type": "code",
   "execution_count": 4,
   "id": "ae1a8189",
   "metadata": {},
   "outputs": [],
   "source": [
    "import sys\n",
    "\n",
    "def mapper():\n",
    "    for line in sys.stdin:\n",
    "        line = line.strip()\n",
    "        words = line.split()\n",
    "        for words in word:\n",
    "            print('%s\\t%s', (count, 1))\n",
    "            \n",
    "if __name__ == '__main__':\n",
    "    mapper()"
   ]
  },
  {
   "cell_type": "code",
   "execution_count": 1,
   "id": "3cbc821c",
   "metadata": {},
   "outputs": [],
   "source": [
    "#!/usr/bin/env python\n",
    "\n",
    "import sys\n",
    "\n",
    "def mapper():\n",
    "    for line in sys.stdin:\n",
    "        line = line.strip()\n",
    "        words = line.split()\n",
    "        for word in words:\n",
    "            print('%s\\t%s', (count, 1))\n",
    "if __name__ == '__main__':\n",
    "    mapper()"
   ]
  },
  {
   "cell_type": "code",
   "execution_count": null,
   "id": "9aadc7a2",
   "metadata": {},
   "outputs": [],
   "source": [
    "#!/usr/bin/env python\n",
    "\n",
    "import sys\n",
    "\n",
    "def mapper():\n",
    "    for line in sys.stdin:\n",
    "        line = line.strip()\n",
    "        w"
   ]
  }
 ],
 "metadata": {
  "kernelspec": {
   "display_name": "Python 3 (ipykernel)",
   "language": "python",
   "name": "python3"
  },
  "language_info": {
   "codemirror_mode": {
    "name": "ipython",
    "version": 3
   },
   "file_extension": ".py",
   "mimetype": "text/x-python",
   "name": "python",
   "nbconvert_exporter": "python",
   "pygments_lexer": "ipython3",
   "version": "3.9.7"
  }
 },
 "nbformat": 4,
 "nbformat_minor": 5
}
